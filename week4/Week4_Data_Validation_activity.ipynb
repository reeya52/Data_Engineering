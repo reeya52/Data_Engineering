{
 "cells": [
  {
   "cell_type": "code",
   "execution_count": 2,
   "id": "212ff070",
   "metadata": {},
   "outputs": [
    {
     "name": "stdout",
     "output_type": "stream",
     "text": [
      "508\n",
      "Existance assertion : Every crash occured in county, is correct\n"
     ]
    }
   ],
   "source": [
    "import pandas as pd\n",
    "\n",
    "df = pd.read_csv('C:/Users/Reeya/OneDrive/Desktop/Spring_2022/Data_Engineering/week4/crash_data.csv')\n",
    "\n",
    "crash_df = df[df['Record Type'] == 1]\n",
    "vehicle_df = df[df['Record Type'] == 2]\n",
    "participant_df = df[df['Record Type'] == 3]\n",
    "\n",
    "crash_df = crash_df.dropna(axis=1,how='all')\n",
    "vehicle_df = vehicle_df.dropna(axis=1,how='all')\n",
    "participant_df = participant_df.dropna(axis=1,how='all')\n",
    "\n",
    "# existance assertion\n",
    "crash_id_count = len(crash_df['Crash ID'])\n",
    "print(crash_id_count)\n",
    "\n",
    "crash_county = crash_df['County Code'].dropna()\n",
    "if crash_id_count == len(crash_county):\n",
    "    print(\"Existance assertion : Every crash occured in county, is correct\")"
   ]
  },
  {
   "cell_type": "code",
   "execution_count": 50,
   "id": "13a6bee2",
   "metadata": {},
   "outputs": [],
   "source": [
    "# limit assertion\n",
    "urban_area_code = crash_df['Urban Area Code']\n",
    "# print(urban_area_code)\n",
    "for code in urban_area_code:\n",
    "    if code in [32.0, 36.0, 84.0]:\n",
    "        print(\"Limit asserstion violated for %\",code)\n",
    "    else:\n",
    "        continue"
   ]
  },
  {
   "cell_type": "code",
   "execution_count": 62,
   "id": "22998ce7",
   "metadata": {},
   "outputs": [],
   "source": [
    "# intra-record assertion\n",
    "for highway_number in crash_df['Highway Number']:\n",
    "    for roadway_number in crash_df['Roadway Number']:\n",
    "        if not highway_number and roadway_number:\n",
    "            print(\"Intra record assertion violatied\")\n",
    "        elif highway_number and not roadway_number:\n",
    "            print(\"Intra record assertion violatied\")\n",
    "        else:\n",
    "            continue"
   ]
  },
  {
   "cell_type": "code",
   "execution_count": 73,
   "id": "46c3c4c9",
   "metadata": {},
   "outputs": [],
   "source": [
    "# inter-record assertion - 1\n",
    "for crash_id in vehicle_df['Crash ID']:\n",
    "    for vehicle_id in vehicle_df['Vehicle ID']:\n",
    "        if not vehicle_id:\n",
    "            print(\"Inter record assertion violated\")\n",
    "        else:\n",
    "            # print(\"Crash id : \", crash_id, \"\\nvehicle id : \", vehicle_id)\n",
    "            continue"
   ]
  },
  {
   "cell_type": "code",
   "execution_count": null,
   "id": "71700a36",
   "metadata": {},
   "outputs": [],
   "source": [
    "# inter-record assertion - 2\n",
    "for vehicle_movement in vehicle_df['Vehicle Movement Code']:\n",
    "    for participant_type in participant_df['Participant Type Code']:\n",
    "        if vehicle_movement == 7 and participant_type != 8:\n",
    "            print(\"Inter record assertion violated\")\n",
    "        else:\n",
    "#             print(\"Vehicle movement code : \", vehicle_movement, \"\\nparticipant type : \", participant_type)\n",
    "            continue"
   ]
  },
  {
   "cell_type": "code",
   "execution_count": 78,
   "id": "cb1f747a",
   "metadata": {},
   "outputs": [],
   "source": [
    "# summery assertion - 1\n",
    "for crash_id in crash_df['Crash ID']:\n",
    "    if crash_id not in vehicle_df['Crash ID'].tolist() and crash_id not in participant_df['Crash ID'].tolist():\n",
    "        print(\"Summery assertion violated\")\n",
    "    else:\n",
    "        # print(crash_id,\" present in all 3 tables\")\n",
    "        continue"
   ]
  },
  {
   "cell_type": "code",
   "execution_count": 30,
   "id": "14021df5",
   "metadata": {},
   "outputs": [
    {
     "name": "stdout",
     "output_type": "stream",
     "text": [
      "Crash severity recorded for all crashes\n"
     ]
    }
   ],
   "source": [
    "# summery assertion - 2\n",
    "if((crash_df['Crash Severity'].isna()).bool == True):\n",
    "     print(\"Violation : Severity code is null\")\n",
    "else:\n",
    "    print(\"Crash severity recorded for all crashes\")"
   ]
  },
  {
   "cell_type": "code",
   "execution_count": 100,
   "id": "f086c3cb",
   "metadata": {},
   "outputs": [
    {
     "data": {
      "text/html": [
       "<div>\n",
       "<style scoped>\n",
       "    .dataframe tbody tr th:only-of-type {\n",
       "        vertical-align: middle;\n",
       "    }\n",
       "\n",
       "    .dataframe tbody tr th {\n",
       "        vertical-align: top;\n",
       "    }\n",
       "\n",
       "    .dataframe thead th {\n",
       "        text-align: right;\n",
       "    }\n",
       "</style>\n",
       "<table border=\"1\" class=\"dataframe\">\n",
       "  <thead>\n",
       "    <tr style=\"text-align: right;\">\n",
       "      <th></th>\n",
       "      <th>Percentage</th>\n",
       "    </tr>\n",
       "    <tr>\n",
       "      <th>Weather Condition</th>\n",
       "      <th></th>\n",
       "    </tr>\n",
       "  </thead>\n",
       "  <tbody>\n",
       "    <tr>\n",
       "      <th>0.0</th>\n",
       "      <td>0.196850</td>\n",
       "    </tr>\n",
       "    <tr>\n",
       "      <th>1.0</th>\n",
       "      <td>68.110236</td>\n",
       "    </tr>\n",
       "    <tr>\n",
       "      <th>2.0</th>\n",
       "      <td>17.519685</td>\n",
       "    </tr>\n",
       "    <tr>\n",
       "      <th>3.0</th>\n",
       "      <td>7.283465</td>\n",
       "    </tr>\n",
       "    <tr>\n",
       "      <th>4.0</th>\n",
       "      <td>3.149606</td>\n",
       "    </tr>\n",
       "    <tr>\n",
       "      <th>5.0</th>\n",
       "      <td>3.740157</td>\n",
       "    </tr>\n",
       "  </tbody>\n",
       "</table>\n",
       "</div>"
      ],
      "text/plain": [
       "                   Percentage\n",
       "Weather Condition            \n",
       "0.0                  0.196850\n",
       "1.0                 68.110236\n",
       "2.0                 17.519685\n",
       "3.0                  7.283465\n",
       "4.0                  3.149606\n",
       "5.0                  3.740157"
      ]
     },
     "execution_count": 100,
     "metadata": {},
     "output_type": "execute_result"
    }
   ],
   "source": [
    "# statistical assertion - 1\n",
    "temp_df = crash_df[['Crash ID', 'Weather Condition']]\n",
    "total_crash = len(temp_df['Crash ID'])\n",
    "weather = temp_df.groupby(['Weather Condition'])\n",
    "crash_count = weather.count()\n",
    "crash_count.apply(lambda x: 100*x/total_crash).rename(columns={\"Crash ID\": \"Percentage\"})"
   ]
  },
  {
   "cell_type": "code",
   "execution_count": 16,
   "id": "e272d3b7",
   "metadata": {},
   "outputs": [
    {
     "data": {
      "text/html": [
       "<div>\n",
       "<style scoped>\n",
       "    .dataframe tbody tr th:only-of-type {\n",
       "        vertical-align: middle;\n",
       "    }\n",
       "\n",
       "    .dataframe tbody tr th {\n",
       "        vertical-align: top;\n",
       "    }\n",
       "\n",
       "    .dataframe thead th {\n",
       "        text-align: right;\n",
       "    }\n",
       "</style>\n",
       "<table border=\"1\" class=\"dataframe\">\n",
       "  <thead>\n",
       "    <tr style=\"text-align: right;\">\n",
       "      <th></th>\n",
       "      <th>Crash Percentage</th>\n",
       "    </tr>\n",
       "    <tr>\n",
       "      <th>Week Day Code</th>\n",
       "      <th></th>\n",
       "    </tr>\n",
       "  </thead>\n",
       "  <tbody>\n",
       "    <tr>\n",
       "      <th>1.0</th>\n",
       "      <td>11.811024</td>\n",
       "    </tr>\n",
       "    <tr>\n",
       "      <th>2.0</th>\n",
       "      <td>13.976378</td>\n",
       "    </tr>\n",
       "    <tr>\n",
       "      <th>3.0</th>\n",
       "      <td>14.763780</td>\n",
       "    </tr>\n",
       "    <tr>\n",
       "      <th>4.0</th>\n",
       "      <td>14.566929</td>\n",
       "    </tr>\n",
       "    <tr>\n",
       "      <th>5.0</th>\n",
       "      <td>13.385827</td>\n",
       "    </tr>\n",
       "    <tr>\n",
       "      <th>6.0</th>\n",
       "      <td>15.157480</td>\n",
       "    </tr>\n",
       "    <tr>\n",
       "      <th>7.0</th>\n",
       "      <td>16.338583</td>\n",
       "    </tr>\n",
       "  </tbody>\n",
       "</table>\n",
       "</div>"
      ],
      "text/plain": [
       "               Crash Percentage\n",
       "Week Day Code                  \n",
       "1.0                   11.811024\n",
       "2.0                   13.976378\n",
       "3.0                   14.763780\n",
       "4.0                   14.566929\n",
       "5.0                   13.385827\n",
       "6.0                   15.157480\n",
       "7.0                   16.338583"
      ]
     },
     "execution_count": 16,
     "metadata": {},
     "output_type": "execute_result"
    }
   ],
   "source": [
    "# statistical assertion - 2\n",
    "crash_day_df = crash_df[['Crash ID', 'Week Day Code']]\n",
    "total_crash = len(crash_day_df['Crash ID'])\n",
    "weekday_group = crash_day_df.groupby(['Week Day Code'])\n",
    "crash_count = weekday_group.count()\n",
    "crash_count.apply(lambda x: 100*x/total_crash).rename(columns={\"Crash ID\": \"Crash Percentage\"})"
   ]
  },
  {
   "cell_type": "code",
   "execution_count": 102,
   "id": "f0e4a253",
   "metadata": {},
   "outputs": [],
   "source": [
    "crash_df.to_csv('C:/Users/Reeya/OneDrive/Desktop/Spring_2022/Data_Engineering/week4/crash.csv', index = False)\n",
    "vehicle_df.to_csv('C:/Users/Reeya/OneDrive/Desktop/Spring_2022/Data_Engineering/week4/vehicle.csv', index = False)\n",
    "participant_df.to_csv('C:/Users/Reeya/OneDrive/Desktop/Spring_2022/Data_Engineering/week4/participant.csv', index = False)"
   ]
  }
 ],
 "metadata": {
  "kernelspec": {
   "display_name": "Python 3 (ipykernel)",
   "language": "python",
   "name": "python3"
  },
  "language_info": {
   "codemirror_mode": {
    "name": "ipython",
    "version": 3
   },
   "file_extension": ".py",
   "mimetype": "text/x-python",
   "name": "python",
   "nbconvert_exporter": "python",
   "pygments_lexer": "ipython3",
   "version": "3.9.7"
  }
 },
 "nbformat": 4,
 "nbformat_minor": 5
}
